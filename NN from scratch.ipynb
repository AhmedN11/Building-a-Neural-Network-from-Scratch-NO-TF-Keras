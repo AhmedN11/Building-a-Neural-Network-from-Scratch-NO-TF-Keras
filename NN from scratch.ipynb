{
 "cells": [
  {
   "cell_type": "markdown",
   "metadata": {},
   "source": [
    "# Simple MNIST NN from Scratch\n",
    "\n",
    "In this notebook, I implemented a simple two-layer neural network, from scratch, using only Numpy and Maths, and trained it on the MNIST digit recognizer dataset. It's meant to be an instructional example, through which you can understand the underlying math of neural networks better.\n",
    "\n",
    "Dataset : [Digit Recognizer | Kaggle](https://www.kaggle.com/competitions/digit-recognizer/data?select=train.csv)\n",
    "\n",
    "Made by : Ahmed NANI - [LinkedIn](https://www.linkedin.com/in/nani-ahmed/) - [Github](https://github.com/AhmedN11) - <a href='mailto:ahmednani015@gmail.com'>ahmednani015@gmail.com</a>"
   ]
  },
  {
   "cell_type": "code",
   "execution_count": 1,
   "metadata": {
    "execution": {
     "iopub.execute_input": "2023-01-23T22:22:05.130980Z",
     "iopub.status.busy": "2023-01-23T22:22:05.130582Z",
     "iopub.status.idle": "2023-01-23T22:22:05.137172Z",
     "shell.execute_reply": "2023-01-23T22:22:05.135891Z",
     "shell.execute_reply.started": "2023-01-23T22:22:05.130947Z"
    }
   },
   "outputs": [],
   "source": [
    "import numpy as np\n",
    "import pandas as pd\n",
    "import matplotlib.pyplot as plt\n",
    "\n",
    "np.set_printoptions(threshold = 10)"
   ]
  },
  {
   "cell_type": "code",
   "execution_count": 2,
   "metadata": {
    "execution": {
     "iopub.execute_input": "2023-01-23T22:22:05.419720Z",
     "iopub.status.busy": "2023-01-23T22:22:05.419296Z",
     "iopub.status.idle": "2023-01-23T22:22:07.648284Z",
     "shell.execute_reply": "2023-01-23T22:22:07.646914Z",
     "shell.execute_reply.started": "2023-01-23T22:22:05.419683Z"
    }
   },
   "outputs": [
    {
     "data": {
      "text/plain": [
       "(42000, 785)"
      ]
     },
     "execution_count": 2,
     "metadata": {},
     "output_type": "execute_result"
    }
   ],
   "source": [
    "data = pd.read_csv('train.csv')\n",
    "data.shape"
   ]
  },
  {
   "cell_type": "code",
   "execution_count": 3,
   "metadata": {
    "execution": {
     "iopub.execute_input": "2023-01-23T22:22:07.651212Z",
     "iopub.status.busy": "2023-01-23T22:22:07.650724Z",
     "iopub.status.idle": "2023-01-23T22:22:07.866389Z",
     "shell.execute_reply": "2023-01-23T22:22:07.864981Z",
     "shell.execute_reply.started": "2023-01-23T22:22:07.651163Z"
    }
   },
   "outputs": [],
   "source": [
    "data = np.array(data)\n",
    "m, n = data.shape\n",
    "train, test = data[:40000].T, data[40000:].T\n",
    "\n",
    "X_train = train[1:] / 255\n",
    "y_train = train[0]\n",
    "\n",
    "X_test = test[1:] / 255\n",
    "y_test = test[0]"
   ]
  },
  {
   "cell_type": "markdown",
   "metadata": {},
   "source": [
    "Our NN will have a simple two-layer architecture. Input layer $a^{[0]}$ will have 784 units corresponding to the 784 pixels in each 28x28 input image. A hidden layer $a^{[1]}$ will have 10 units with ReLU activation, and finally our output layer $a^{[2]}$ will have 10 units corresponding to the ten digit classes with softmax activation.\n",
    "\n",
    "**Forward propagation**\n",
    "\n",
    "$$Z^{[1]} = W^{[1]} X + b^{[1]}$$\n",
    "$$A^{[1]} = g_{\\text{ReLU}}(Z^{[1]}))$$\n",
    "$$Z^{[2]} = W^{[2]} A^{[1]} + b^{[2]}$$\n",
    "$$A^{[2]} = g_{\\text{softmax}}(Z^{[2]})$$\n",
    "\n",
    "**Backward propagation**\n",
    "\n",
    "$$dZ^{[2]} = A^{[2]} - Y$$\n",
    "$$dW^{[2]} = \\frac{1}{m} dZ^{[2]} A^{[1]T}$$\n",
    "$$dB^{[2]} = \\frac{1}{m} \\Sigma {dZ^{[2]}}$$\n",
    "$$dZ^{[1]} = W^{[2]T} dZ^{[2]} .* g^{[1]\\prime} (z^{[1]})$$\n",
    "$$dW^{[1]} = \\frac{1}{m} dZ^{[1]} A^{[0]T}$$\n",
    "$$dB^{[1]} = \\frac{1}{m} \\Sigma {dZ^{[1]}}$$\n",
    "\n",
    "**Parameter updates**\n",
    "\n",
    "$$W^{[2]} := W^{[2]} - \\alpha dW^{[2]}$$\n",
    "$$b^{[2]} := b^{[2]} - \\alpha db^{[2]}$$\n",
    "$$W^{[1]} := W^{[1]} - \\alpha dW^{[1]}$$\n",
    "$$b^{[1]} := b^{[1]} - \\alpha db^{[1]}$$\n",
    "\n",
    "**Vars and shapes**\n",
    "\n",
    "Forward prop\n",
    "\n",
    "- $A^{[0]} = X$: 784 x m\n",
    "- $Z^{[1]} \\sim A^{[1]}$: 10 x m\n",
    "- $W^{[1]}$: 10 x 784 (as $W^{[1]} A^{[0]} \\sim Z^{[1]}$)\n",
    "- $B^{[1]}$: 10 x 1\n",
    "- $Z^{[2]} \\sim A^{[2]}$: 10 x m\n",
    "- $W^{[1]}$: 10 x 10 (as $W^{[2]} A^{[1]} \\sim Z^{[2]}$)\n",
    "- $B^{[2]}$: 10 x 1\n",
    "\n",
    "Backprop\n",
    "\n",
    "- $dZ^{[2]}$: 10 x m ($~A^{[2]}$)\n",
    "- $dW^{[2]}$: 10 x 10\n",
    "- $dB^{[2]}$: 10 x 1\n",
    "- $dZ^{[1]}$: 10 x m ($~A^{[1]}$)\n",
    "- $dW^{[1]}$: 10 x 10\n",
    "- $dB^{[1]}$: 10 x 1"
   ]
  },
  {
   "cell_type": "code",
   "execution_count": 4,
   "metadata": {
    "execution": {
     "iopub.execute_input": "2023-01-23T22:22:07.868472Z",
     "iopub.status.busy": "2023-01-23T22:22:07.867993Z",
     "iopub.status.idle": "2023-01-23T22:22:07.875948Z",
     "shell.execute_reply": "2023-01-23T22:22:07.875082Z",
     "shell.execute_reply.started": "2023-01-23T22:22:07.868436Z"
    }
   },
   "outputs": [],
   "source": [
    "def ReLU(x):\n",
    "    return np.maximum(0, x)\n",
    "\n",
    "def softmax(Z):\n",
    "    return np.exp(Z) / sum(np.exp(Z))\n",
    "    return A\n",
    "\n",
    "def one_hot(x):\n",
    "    one_hot_Y = np.zeros((x.size, x.max() + 1))\n",
    "    one_hot_Y[np.arange(x.size), x] = 1\n",
    "    one_hot_Y = one_hot_Y.T\n",
    "    return one_hot_Y\n",
    "\n",
    "def ReLU_Deriv(x):\n",
    "    return x > 0\n",
    "\n",
    "def get_predictions(x):\n",
    "    return np.argmax(x, 0)\n",
    "\n",
    "def get_accuracy(predictions, Y):\n",
    "#     print(predictions, Y)\n",
    "    return 'Accuracy : ' + str(np.sum(predictions == Y) / Y.size)"
   ]
  },
  {
   "cell_type": "markdown",
   "metadata": {},
   "source": [
    "## Let's build a neural network from the ground up!"
   ]
  },
  {
   "cell_type": "code",
   "execution_count": 5,
   "metadata": {
    "execution": {
     "iopub.execute_input": "2023-01-23T22:22:07.878472Z",
     "iopub.status.busy": "2023-01-23T22:22:07.878039Z",
     "iopub.status.idle": "2023-01-23T22:22:07.898644Z",
     "shell.execute_reply": "2023-01-23T22:22:07.897038Z",
     "shell.execute_reply.started": "2023-01-23T22:22:07.878434Z"
    }
   },
   "outputs": [],
   "source": [
    "class NeuralNet:\n",
    "    \n",
    "    def __init__(self):\n",
    "        self.W1 = np.random.rand(10, 784) - 0.5\n",
    "        self.b1 = np.random.rand(10, 1) - 0.5\n",
    "        self.W2 = np.random.rand(10, 10) - 0.5\n",
    "        self.b2 = np.random.rand(10, 1) - 0.5\n",
    "        return\n",
    "        \n",
    "    def forward_prop(self, X):\n",
    "        self.Z1 = np.dot(self.W1, X) + self.b1\n",
    "        self.A1 = ReLU(self.Z1)\n",
    "        self.Z2 = np.dot(self.W2, self.A1) + self.b2\n",
    "        self.A2 = softmax(self.Z2)\n",
    "        return self.Z1, self.A1, self.Z2, self.A2\n",
    "    \n",
    "    def back_prop(self, X, y):\n",
    "        one_hot_y = one_hot(y)\n",
    "        self.dZ2 = self.A2 - one_hot_y\n",
    "        self.dW2 = 1/m * self.dZ2.dot(self.A1.T)\n",
    "        self.db2 = 1/m * np.sum(self.dZ2, axis = 1)\n",
    "        self.dZ1 = self.W2.T.dot(self.dZ2) * ReLU_Deriv(self.Z1)\n",
    "        self.dW1 = 1/m * self.dZ1.dot(X.T)\n",
    "        self.db1 = 1/m * np.sum(self.dZ1, axis = 1)\n",
    "        return self.dW2, self.db2, self.dW1, self.db1\n",
    "\n",
    "    def update_params(self, learning_rate):\n",
    "        self.W1 = self.W1 - learning_rate * self.dW1\n",
    "        self.b1 = self.b1 - learning_rate * self.db1.reshape(-1,1)\n",
    "        self.W2 = self.W2 - learning_rate * self.dW2\n",
    "        self.b2 = self.b2 - learning_rate * self.db2.reshape(-1,1)\n",
    "        return self.W1, self.b1, self.W2, self.b2\n",
    "    \n",
    "    def fit(self, X, y, epochs = 500, learning_rate = 0.1):\n",
    "#         W1, b1, W2, b2 = self.init_args()\n",
    "        for _ in range(epochs) :\n",
    "            _ += 1\n",
    "            self.Z1, self.A1, self.Z2, self.A2 = self.forward_prop(X)\n",
    "            self.dW2, db2, dW1, db1 = self.back_prop(X, y)\n",
    "            self.W1, self.b1, self.W2, self.b2 = self.update_params(0.1)\n",
    "            if _ % 10 == 0 :\n",
    "                print('Iteration : ' + str (_))\n",
    "                print(get_accuracy(get_predictions(self.A2), y))\n",
    "        return\n",
    "    \n",
    "    def evaluate(self, X, y):\n",
    "        _, _, _, self.A2 = self.forward_prop(X)\n",
    "        print(get_accuracy(get_predictions(self.A2), y))\n",
    "    \n",
    "    def predict(self, x):\n",
    "        _, _, _, A2 = self.forward_prop(x)\n",
    "        prediction = get_predictions(A2)\n",
    "        return prediction[0]"
   ]
  },
  {
   "cell_type": "markdown",
   "metadata": {},
   "source": [
    "### We can proceed to train the model now :"
   ]
  },
  {
   "cell_type": "code",
   "execution_count": 6,
   "metadata": {
    "execution": {
     "iopub.execute_input": "2023-01-23T22:22:08.723721Z",
     "iopub.status.busy": "2023-01-23T22:22:08.723336Z",
     "iopub.status.idle": "2023-01-23T22:23:24.444930Z",
     "shell.execute_reply": "2023-01-23T22:23:24.443072Z",
     "shell.execute_reply.started": "2023-01-23T22:22:08.723690Z"
    }
   },
   "outputs": [
    {
     "name": "stdout",
     "output_type": "stream",
     "text": [
      "Iteration : 10\n",
      "Accuracy : 0.14715\n",
      "Iteration : 20\n",
      "Accuracy : 0.258575\n",
      "Iteration : 30\n",
      "Accuracy : 0.344575\n",
      "Iteration : 40\n",
      "Accuracy : 0.4164\n",
      "Iteration : 50\n",
      "Accuracy : 0.47765\n",
      "Iteration : 60\n",
      "Accuracy : 0.534175\n",
      "Iteration : 70\n",
      "Accuracy : 0.578675\n",
      "Iteration : 80\n",
      "Accuracy : 0.61495\n",
      "Iteration : 90\n",
      "Accuracy : 0.64355\n",
      "Iteration : 100\n",
      "Accuracy : 0.667525\n",
      "Iteration : 110\n",
      "Accuracy : 0.68605\n",
      "Iteration : 120\n",
      "Accuracy : 0.702025\n",
      "Iteration : 130\n",
      "Accuracy : 0.715825\n",
      "Iteration : 140\n",
      "Accuracy : 0.72745\n",
      "Iteration : 150\n",
      "Accuracy : 0.7379\n",
      "Iteration : 160\n",
      "Accuracy : 0.7467\n",
      "Iteration : 170\n",
      "Accuracy : 0.75515\n",
      "Iteration : 180\n",
      "Accuracy : 0.7629\n",
      "Iteration : 190\n",
      "Accuracy : 0.77015\n",
      "Iteration : 200\n",
      "Accuracy : 0.77595\n",
      "Iteration : 210\n",
      "Accuracy : 0.7825\n",
      "Iteration : 220\n",
      "Accuracy : 0.7872\n",
      "Iteration : 230\n",
      "Accuracy : 0.79125\n",
      "Iteration : 240\n",
      "Accuracy : 0.796175\n",
      "Iteration : 250\n",
      "Accuracy : 0.800325\n",
      "Iteration : 260\n",
      "Accuracy : 0.80465\n",
      "Iteration : 270\n",
      "Accuracy : 0.8086\n",
      "Iteration : 280\n",
      "Accuracy : 0.8123\n",
      "Iteration : 290\n",
      "Accuracy : 0.81535\n",
      "Iteration : 300\n",
      "Accuracy : 0.819\n",
      "Iteration : 310\n",
      "Accuracy : 0.822025\n",
      "Iteration : 320\n",
      "Accuracy : 0.825025\n",
      "Iteration : 330\n",
      "Accuracy : 0.827825\n",
      "Iteration : 340\n",
      "Accuracy : 0.830625\n",
      "Iteration : 350\n",
      "Accuracy : 0.8326\n",
      "Iteration : 360\n",
      "Accuracy : 0.83485\n",
      "Iteration : 370\n",
      "Accuracy : 0.8366\n",
      "Iteration : 380\n",
      "Accuracy : 0.8387\n",
      "Iteration : 390\n",
      "Accuracy : 0.84055\n",
      "Iteration : 400\n",
      "Accuracy : 0.8424\n",
      "Iteration : 410\n",
      "Accuracy : 0.843825\n",
      "Iteration : 420\n",
      "Accuracy : 0.84555\n",
      "Iteration : 430\n",
      "Accuracy : 0.846775\n",
      "Iteration : 440\n",
      "Accuracy : 0.84825\n",
      "Iteration : 450\n",
      "Accuracy : 0.84995\n",
      "Iteration : 460\n",
      "Accuracy : 0.851175\n",
      "Iteration : 470\n",
      "Accuracy : 0.852275\n",
      "Iteration : 480\n",
      "Accuracy : 0.8532\n",
      "Iteration : 490\n",
      "Accuracy : 0.854375\n",
      "Iteration : 500\n",
      "Accuracy : 0.855625\n"
     ]
    }
   ],
   "source": [
    "nn = NeuralNet()\n",
    "nn.fit(X_train, y_train)"
   ]
  },
  {
   "cell_type": "markdown",
   "metadata": {},
   "source": [
    "#### Finally, let's find the accuracy on the test set:"
   ]
  },
  {
   "cell_type": "code",
   "execution_count": 7,
   "metadata": {
    "execution": {
     "iopub.execute_input": "2023-01-23T22:23:24.454786Z",
     "iopub.status.busy": "2023-01-23T22:23:24.453858Z",
     "iopub.status.idle": "2023-01-23T22:23:24.477446Z",
     "shell.execute_reply": "2023-01-23T22:23:24.473649Z",
     "shell.execute_reply.started": "2023-01-23T22:23:24.454712Z"
    }
   },
   "outputs": [
    {
     "name": "stdout",
     "output_type": "stream",
     "text": [
      "Accuracy : 0.847\n"
     ]
    }
   ],
   "source": [
    "nn.evaluate(X_test, y_test)"
   ]
  },
  {
   "cell_type": "markdown",
   "metadata": {},
   "source": [
    "**84% accuracy, our model generalized from the training data pretty well.**"
   ]
  },
  {
   "cell_type": "code",
   "execution_count": 8,
   "metadata": {
    "execution": {
     "iopub.execute_input": "2023-01-23T22:23:29.553312Z",
     "iopub.status.busy": "2023-01-23T22:23:29.552846Z",
     "iopub.status.idle": "2023-01-23T22:23:29.560356Z",
     "shell.execute_reply": "2023-01-23T22:23:29.559419Z",
     "shell.execute_reply.started": "2023-01-23T22:23:29.553265Z"
    }
   },
   "outputs": [],
   "source": [
    "def make_predictions(X):\n",
    "    _, _, _, A2 = nn.forward_prop(X)\n",
    "    predictions = get_predictions(A2)\n",
    "    return predictions\n",
    "\n",
    "def test_prediction(index):\n",
    "    current_image = X_train[:, index, None]\n",
    "    prediction = make_predictions(X_train[:, index, None])\n",
    "    label = y_train[index]\n",
    "    \n",
    "    current_image = current_image.reshape((28, 28)) * 255\n",
    "    plt.gray()\n",
    "    plt.imshow(current_image, interpolation='nearest')\n",
    "    plt.show()\n",
    "    \n",
    "    print(\"Label : \", label)\n",
    "    print(\"Prediction : \", prediction[0])"
   ]
  },
  {
   "cell_type": "markdown",
   "metadata": {},
   "source": [
    "## Let's test a prediction"
   ]
  },
  {
   "cell_type": "code",
   "execution_count": 9,
   "metadata": {
    "execution": {
     "iopub.execute_input": "2023-01-23T22:23:34.495284Z",
     "iopub.status.busy": "2023-01-23T22:23:34.494820Z",
     "iopub.status.idle": "2023-01-23T22:23:34.707453Z",
     "shell.execute_reply": "2023-01-23T22:23:34.706121Z",
     "shell.execute_reply.started": "2023-01-23T22:23:34.495246Z"
    }
   },
   "outputs": [
    {
     "data": {
      "image/png": "[encoded data removed]",
      "text/plain": [
       "<Figure size 432x288 with 1 Axes>"
      ]
     },
     "metadata": {
      "needs_background": "light"
     },
     "output_type": "display_data"
    },
    {
     "name": "stdout",
     "output_type": "stream",
     "text": [
      "Label :  9\n",
      "Prediction :  9\n"
     ]
    }
   ],
   "source": [
    "test_prediction(100)"
   ]
  }
 ],
 "metadata": {
  "kernelspec": {
   "display_name": "Python 3 (ipykernel)",
   "language": "python",
   "name": "python3"
  },
  "language_info": {
   "codemirror_mode": {
    "name": "ipython",
    "version": 3
   },
   "file_extension": ".py",
   "mimetype": "text/x-python",
   "name": "python",
   "nbconvert_exporter": "python",
   "pygments_lexer": "ipython3",
   "version": "3.9.7"
  }
 },
 "nbformat": 4,
 "nbformat_minor": 4
}
